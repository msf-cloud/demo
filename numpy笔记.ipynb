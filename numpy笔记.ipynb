{
 "cells": [
  {
   "cell_type": "code",
   "execution_count": 2,
   "metadata": {},
   "outputs": [],
   "source": [
    "import numpy as np"
   ]
  },
  {
   "cell_type": "code",
   "execution_count": 3,
   "metadata": {},
   "outputs": [
    {
     "data": {
      "text/plain": [
       "array([[ 99.61605673,  99.31860946,  99.57887763, 100.53518554,\n",
       "        100.35103082],\n",
       "       [ 98.34302127,  99.91013498,  99.27835836,  98.86024952,\n",
       "         99.89666146],\n",
       "       [100.5014159 , 100.82427414, 102.07967629, 100.64070122,\n",
       "        100.47138551],\n",
       "       [100.3463732 ,  98.89621458,  99.18585897,  99.75632647,\n",
       "        100.78375927],\n",
       "       [ 99.4794749 , 100.33615707, 101.25271808,  99.49284103,\n",
       "        100.28674428]])"
      ]
     },
     "execution_count": 3,
     "metadata": {},
     "output_type": "execute_result"
    }
   ],
   "source": [
    "n1=np.random.normal(100,1,(5,5))#np.random.normal(loc,scale,size)loc正态分布均值 scale标准差 size矩阵大小\n",
    "n1"
   ]
  },
  {
   "cell_type": "code",
   "execution_count": 8,
   "metadata": {},
   "outputs": [
    {
     "data": {
      "text/plain": [
       "array([[5, 8, 4, 5, 6],\n",
       "       [5, 9, 4, 1, 0],\n",
       "       [7, 1, 0, 5, 7],\n",
       "       [0, 0, 5, 3, 5],\n",
       "       [8, 2, 0, 8, 2]])"
      ]
     },
     "execution_count": 8,
     "metadata": {},
     "output_type": "execute_result"
    }
   ],
   "source": [
    "n2=np.random.randint(0,10,(5,5))\n",
    "n2"
   ]
  },
  {
   "cell_type": "code",
   "execution_count": 10,
   "metadata": {},
   "outputs": [
    {
     "data": {
      "text/plain": [
       "array([[5, 8, 4, 5, 6],\n",
       "       [5, 9, 4, 1, 0],\n",
       "       [7, 1, 0, 5, 7],\n",
       "       [0, 0, 5, 3, 5],\n",
       "       [8, 2, 0, 8, 2],\n",
       "       [5, 8, 4, 5, 6],\n",
       "       [5, 9, 4, 1, 0],\n",
       "       [7, 1, 0, 5, 7],\n",
       "       [0, 0, 5, 3, 5],\n",
       "       [8, 2, 0, 8, 2]])"
      ]
     },
     "execution_count": 10,
     "metadata": {},
     "output_type": "execute_result"
    }
   ],
   "source": [
    "np.concatenate((n2,n2),axis=0)#axis=1合并行 concatenate级联"
   ]
  },
  {
   "cell_type": "code",
   "execution_count": 11,
   "metadata": {},
   "outputs": [],
   "source": [
    "#np.hstack和np.vstack水平和竖直级联"
   ]
  },
  {
   "cell_type": "code",
   "execution_count": 21,
   "metadata": {},
   "outputs": [
    {
     "data": {
      "text/plain": [
       "array([[ 94, 122, 122,  19,  61,  63, 102],\n",
       "       [  6,  40,  51, 138,  95,   4,  52],\n",
       "       [ 62, 136, 100,  86,  64, 145,  56],\n",
       "       [ 26, 145, 141,  77,  34,  23,  45],\n",
       "       [144,  69, 120,  70,  31,  52,  20]])"
      ]
     },
     "execution_count": 21,
     "metadata": {},
     "output_type": "execute_result"
    }
   ],
   "source": [
    "n3=np.random.randint(0,150,(5,7))\n",
    "n3"
   ]
  },
  {
   "cell_type": "code",
   "execution_count": 22,
   "metadata": {},
   "outputs": [
    {
     "data": {
      "text/plain": [
       "[array([[ 94, 122, 122,  19,  61,  63, 102]]),\n",
       " array([[  6,  40,  51, 138,  95,   4,  52],\n",
       "        [ 62, 136, 100,  86,  64, 145,  56]]),\n",
       " array([[ 26, 145, 141,  77,  34,  23,  45],\n",
       "        [144,  69, 120,  70,  31,  52,  20]])]"
      ]
     },
     "execution_count": 22,
     "metadata": {},
     "output_type": "execute_result"
    }
   ],
   "source": [
    "n4=np.split(n3,(1,3))# hsplit和vsplit切分列和行\n",
    "n4"
   ]
  },
  {
   "cell_type": "code",
   "execution_count": 23,
   "metadata": {},
   "outputs": [
    {
     "data": {
      "text/plain": [
       "[array([[ 94, 122, 122,  19,  61,  63, 102]]),\n",
       " array([[  6,  40,  51, 138,  95,   4,  52],\n",
       "        [ 62, 136, 100,  86,  64, 145,  56]]),\n",
       " array([[ 26, 145, 141,  77,  34,  23,  45],\n",
       "        [144,  69, 120,  70,  31,  52,  20]])]"
      ]
     },
     "execution_count": 23,
     "metadata": {},
     "output_type": "execute_result"
    }
   ],
   "source": [
    "n5=np.vsplit(n3,(1,3))\n",
    "n5"
   ]
  },
  {
   "cell_type": "code",
   "execution_count": null,
   "metadata": {},
   "outputs": [],
   "source": []
  }
 ],
 "metadata": {
  "kernelspec": {
   "display_name": "Python 3",
   "language": "python",
   "name": "python3"
  },
  "language_info": {
   "codemirror_mode": {
    "name": "ipython",
    "version": 3
   },
   "file_extension": ".py",
   "mimetype": "text/x-python",
   "name": "python",
   "nbconvert_exporter": "python",
   "pygments_lexer": "ipython3",
   "version": "3.8.3"
  }
 },
 "nbformat": 4,
 "nbformat_minor": 4
}
