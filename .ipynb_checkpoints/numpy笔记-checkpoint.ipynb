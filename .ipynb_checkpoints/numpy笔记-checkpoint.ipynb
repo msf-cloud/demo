{
 "cells": [
  {
   "cell_type": "code",
   "execution_count": 4,
   "metadata": {},
   "outputs": [],
   "source": [
    "import numpy as np"
   ]
  },
  {
   "cell_type": "code",
   "execution_count": 7,
   "metadata": {},
   "outputs": [
    {
     "data": {
      "text/plain": [
       "array([[ 98.6601298 ,  99.93541401,  99.14186555, 101.62679166,\n",
       "        100.66855709],\n",
       "       [ 99.38457242, 100.02896906,  98.94955859, 100.97440474,\n",
       "         99.47798595],\n",
       "       [ 98.34344439,  98.38439609,  98.45573787, 100.33289549,\n",
       "         99.74015483],\n",
       "       [100.4322223 ,  98.78356647,  98.99804858,  98.43006041,\n",
       "        100.78678606],\n",
       "       [ 99.81447385, 100.7649405 ,  99.7071366 ,  99.40402361,\n",
       "         99.8708722 ]])"
      ]
     },
     "execution_count": 7,
     "metadata": {},
     "output_type": "execute_result"
    }
   ],
   "source": [
    "n1=np.random.normal(100,1,(5,5))#np.random.normal(loc,scale,size)loc正态分布均值 scale标准差 size矩阵大\n",
    "n1"
   ]
  },
  {
   "cell_type": "code",
   "execution_count": null,
   "metadata": {},
   "outputs": [],
   "source": []
  }
 ],
 "metadata": {
  "kernelspec": {
   "display_name": "Python 3",
   "language": "python",
   "name": "python3"
  },
  "language_info": {
   "codemirror_mode": {
    "name": "ipython",
    "version": 3
   },
   "file_extension": ".py",
   "mimetype": "text/x-python",
   "name": "python",
   "nbconvert_exporter": "python",
   "pygments_lexer": "ipython3",
   "version": "3.8.3"
  }
 },
 "nbformat": 4,
 "nbformat_minor": 4
}
