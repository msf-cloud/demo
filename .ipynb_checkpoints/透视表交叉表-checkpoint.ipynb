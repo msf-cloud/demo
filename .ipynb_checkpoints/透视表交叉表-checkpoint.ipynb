{
 "cells": [
  {
   "cell_type": "code",
   "execution_count": 2,
   "metadata": {},
   "outputs": [],
   "source": [
    "import pandas as pd\n",
    "import numpy as np"
   ]
  },
  {
   "cell_type": "code",
   "execution_count": 3,
   "metadata": {},
   "outputs": [],
   "source": [
    "date=['2017-5-1','2017-5-2','2017-5-3']*3\n",
    "rng=pd.to_datetime(date)\n",
    "df=pd.DataFrame({'date':rng,\n",
    "                 'key':list('abcdabcda'),\n",
    "                 'values':np.random.rand(9)*10\n",
    "                })"
   ]
  },
  {
   "cell_type": "code",
   "execution_count": 4,
   "metadata": {},
   "outputs": [
    {
     "name": "stdout",
     "output_type": "stream",
     "text": [
      "        date key    values\n",
      "0 2017-05-01   a  6.592153\n",
      "1 2017-05-02   b  1.407661\n",
      "2 2017-05-03   c  0.402324\n",
      "3 2017-05-01   d  3.087060\n",
      "4 2017-05-02   a  9.430931\n",
      "5 2017-05-03   b  9.539646\n",
      "6 2017-05-01   c  9.459734\n",
      "7 2017-05-02   d  3.217778\n",
      "8 2017-05-03   a  7.060663\n"
     ]
    }
   ],
   "source": [
    "print(df)"
   ]
  },
  {
   "cell_type": "code",
   "execution_count": 5,
   "metadata": {},
   "outputs": [
    {
     "name": "stdout",
     "output_type": "stream",
     "text": [
      "               values\n",
      "date                 \n",
      "2017-05-01  19.138946\n",
      "2017-05-02  14.056370\n",
      "2017-05-03  17.002632\n"
     ]
    }
   ],
   "source": [
    "print(pd.pivot_table(df,values='values',index='date',aggfunc=np.sum))"
   ]
  },
  {
   "cell_type": "code",
   "execution_count": 6,
   "metadata": {},
   "outputs": [
    {
     "name": "stdout",
     "output_type": "stream",
     "text": [
      "key                a         b         c         d\n",
      "date                                              \n",
      "2017-05-01  6.592153       NaN  9.459734  3.087060\n",
      "2017-05-02  9.430931  1.407661       NaN  3.217778\n",
      "2017-05-03  7.060663  9.539646  0.402324       NaN\n"
     ]
    }
   ],
   "source": [
    "print(pd.pivot_table(df,values='values',index='date',columns='key',aggfunc=np.sum))"
   ]
  },
  {
   "cell_type": "code",
   "execution_count": 7,
   "metadata": {},
   "outputs": [],
   "source": [
    "df=pd.DataFrame({'A':[1,2,2,2,2],\n",
    "                'B':[3,3,4,4,4],\n",
    "                'C':[1,1,np.nan,1,1]})"
   ]
  },
  {
   "cell_type": "code",
   "execution_count": 8,
   "metadata": {},
   "outputs": [
    {
     "name": "stdout",
     "output_type": "stream",
     "text": [
      "   A  B    C\n",
      "0  1  3  1.0\n",
      "1  2  3  1.0\n",
      "2  2  4  NaN\n",
      "3  2  4  1.0\n",
      "4  2  4  1.0\n"
     ]
    }
   ],
   "source": [
    "print(df)"
   ]
  },
  {
   "cell_type": "code",
   "execution_count": 9,
   "metadata": {},
   "outputs": [
    {
     "name": "stdout",
     "output_type": "stream",
     "text": [
      "B  3  4\n",
      "A      \n",
      "1  1  0\n",
      "2  1  3\n"
     ]
    }
   ],
   "source": [
    "print(pd.crosstab(df['A'],df['B']))#交叉表"
   ]
  },
  {
   "cell_type": "code",
   "execution_count": 13,
   "metadata": {},
   "outputs": [
    {
     "name": "stdout",
     "output_type": "stream",
     "text": [
      "B    3    4\n",
      "A          \n",
      "1  0.2  0.0\n",
      "2  0.2  0.6\n"
     ]
    }
   ],
   "source": [
    "print(pd.crosstab(df['A'],df['B'],normalize=True))"
   ]
  },
  {
   "cell_type": "code",
   "execution_count": 14,
   "metadata": {},
   "outputs": [
    {
     "name": "stdout",
     "output_type": "stream",
     "text": [
      "B    3    4\n",
      "A          \n",
      "1  1.0  NaN\n",
      "2  1.0  2.0\n"
     ]
    }
   ],
   "source": [
    "print(pd.crosstab(df['A'],df['B'],values=df['C'],aggfunc=np.sum))#a=2,b=4时c的值求和"
   ]
  },
  {
   "cell_type": "code",
   "execution_count": 16,
   "metadata": {},
   "outputs": [
    {
     "name": "stdout",
     "output_type": "stream",
     "text": [
      "B      3    4  All\n",
      "A                 \n",
      "1    1.0  NaN  1.0\n",
      "2    1.0  2.0  3.0\n",
      "All  2.0  2.0  4.0\n"
     ]
    }
   ],
   "source": [
    "print(pd.crosstab(df['A'],df['B'],values=df['C'],aggfunc=np.sum,margins=True))"
   ]
  },
  {
   "cell_type": "code",
   "execution_count": null,
   "metadata": {},
   "outputs": [],
   "source": []
  }
 ],
 "metadata": {
  "kernelspec": {
   "display_name": "Python 3",
   "language": "python",
   "name": "python3"
  },
  "language_info": {
   "codemirror_mode": {
    "name": "ipython",
    "version": 3
   },
   "file_extension": ".py",
   "mimetype": "text/x-python",
   "name": "python",
   "nbconvert_exporter": "python",
   "pygments_lexer": "ipython3",
   "version": "3.8.3"
  }
 },
 "nbformat": 4,
 "nbformat_minor": 4
}
