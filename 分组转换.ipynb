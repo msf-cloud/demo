{
 "cells": [
  {
   "cell_type": "code",
   "execution_count": 1,
   "metadata": {},
   "outputs": [],
   "source": [
    "import pandas as pd\n",
    "import numpy as np"
   ]
  },
  {
   "cell_type": "code",
   "execution_count": 2,
   "metadata": {},
   "outputs": [],
   "source": [
    "df=pd.DataFrame({'data1':np.random.rand(5),\n",
    "                'data2':np.random.rand(5),\n",
    "                'key1':list(\"aabba\"),\n",
    "                'key2':['one','two','one','two','one']})"
   ]
  },
  {
   "cell_type": "code",
   "execution_count": 3,
   "metadata": {},
   "outputs": [
    {
     "name": "stdout",
     "output_type": "stream",
     "text": [
      "      data1     data2 key1 key2\n",
      "0  0.778275  0.949973    a  one\n",
      "1  0.253556  0.308250    a  two\n",
      "2  0.287133  0.486292    b  one\n",
      "3  0.140540  0.911654    b  two\n",
      "4  0.136645  0.515469    a  one\n"
     ]
    }
   ],
   "source": [
    "print(df)"
   ]
  },
  {
   "cell_type": "code",
   "execution_count": 4,
   "metadata": {},
   "outputs": [
    {
     "name": "stdout",
     "output_type": "stream",
     "text": [
      "         data1     data2\n",
      "key1                    \n",
      "a     0.389492  0.591231\n",
      "b     0.213837  0.698973\n"
     ]
    }
   ],
   "source": [
    "print(df.groupby('key1').mean())\n",
    "k_mean=df.groupby('key1').mean()"
   ]
  },
  {
   "cell_type": "code",
   "execution_count": 5,
   "metadata": {},
   "outputs": [
    {
     "name": "stdout",
     "output_type": "stream",
     "text": [
      "      data1     data2\n",
      "0  0.389492  0.591231\n",
      "1  0.389492  0.591231\n",
      "2  0.213837  0.698973\n",
      "3  0.213837  0.698973\n",
      "4  0.389492  0.591231\n"
     ]
    }
   ],
   "source": [
    "print(df.groupby('key1').transform(np.mean))"
   ]
  },
  {
   "cell_type": "code",
   "execution_count": 11,
   "metadata": {},
   "outputs": [
    {
     "name": "stdout",
     "output_type": "stream",
     "text": [
      "   mean_data1_x  mean_data2_x mean_key1 mean_key2  mean_data1_y  mean_data2_y\n",
      "0      0.284207      0.672606         a       one      0.615508      0.476454\n",
      "1      0.916246      0.685740         a       two      0.615508      0.476454\n",
      "4      0.646071      0.071015         a       one      0.615508      0.476454\n",
      "2      0.867472      0.935620         b       one      0.555294      0.831602\n",
      "3      0.243115      0.727584         b       two      0.555294      0.831602\n"
     ]
    }
   ],
   "source": [
    "print(pd.merge(df,k_mean,left_on='key1',right_index=True).add_prefix('mean_'))"
   ]
  },
  {
   "cell_type": "code",
   "execution_count": 6,
   "metadata": {},
   "outputs": [
    {
     "name": "stdout",
     "output_type": "stream",
     "text": [
      "      data1     data2 key1 key2\n",
      "0  0.778275  0.949973    a  one\n",
      "1  0.253556  0.308250    a  two\n",
      "2  0.287133  0.486292    b  one\n",
      "3  0.140540  0.911654    b  two\n",
      "4  0.136645  0.515469    a  one\n"
     ]
    }
   ],
   "source": [
    "print(df)"
   ]
  },
  {
   "cell_type": "code",
   "execution_count": 7,
   "metadata": {},
   "outputs": [
    {
     "name": "stdout",
     "output_type": "stream",
     "text": [
      "               data1     data2\n",
      "key1                          \n",
      "a    count  3.000000  3.000000\n",
      "     mean   0.389492  0.591231\n",
      "     std    0.341733  0.327501\n",
      "     min    0.136645  0.308250\n",
      "     25%    0.195100  0.411859\n",
      "     50%    0.253556  0.515469\n",
      "     75%    0.515916  0.732721\n",
      "     max    0.778275  0.949973\n",
      "b    count  2.000000  2.000000\n",
      "     mean   0.213837  0.698973\n",
      "     std    0.103656  0.300776\n",
      "     min    0.140540  0.486292\n",
      "     25%    0.177188  0.592633\n",
      "     50%    0.213837  0.698973\n",
      "     75%    0.250485  0.805314\n",
      "     max    0.287133  0.911654\n"
     ]
    }
   ],
   "source": [
    "print(df.groupby('key1').apply(lambda x: x.describe()))#describe描述统计量"
   ]
  },
  {
   "cell_type": "code",
   "execution_count": null,
   "metadata": {},
   "outputs": [],
   "source": []
  }
 ],
 "metadata": {
  "kernelspec": {
   "display_name": "Python 3",
   "language": "python",
   "name": "python3"
  },
  "language_info": {
   "codemirror_mode": {
    "name": "ipython",
    "version": 3
   },
   "file_extension": ".py",
   "mimetype": "text/x-python",
   "name": "python",
   "nbconvert_exporter": "python",
   "pygments_lexer": "ipython3",
   "version": "3.8.3"
  }
 },
 "nbformat": 4,
 "nbformat_minor": 4
}
